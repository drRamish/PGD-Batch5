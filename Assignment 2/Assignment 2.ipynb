{
 "cells": [
  {
   "cell_type": "code",
   "execution_count": 1,
   "id": "c4eafa34",
   "metadata": {},
   "outputs": [
    {
     "name": "stdout",
     "output_type": "stream",
     "text": [
      "My name is Ramish, I am 27 years old and I live in Pakistan\n"
     ]
    }
   ],
   "source": [
    "#Task 1\n",
    "name = 'Ramish'\n",
    "age = 27\n",
    "country = 'Pakistan'\n",
    "data = 'My name is ' + name + ', I am ' + str(age)  + ' years old' + ' and I live in ' + country\n",
    "print(data)"
   ]
  },
  {
   "cell_type": "code",
   "execution_count": 2,
   "id": "29579348",
   "metadata": {},
   "outputs": [
    {
     "name": "stdout",
     "output_type": "stream",
     "text": [
      "I bought 10 laptops at 600 each, for a total of $6000. \n",
      "\n"
     ]
    }
   ],
   "source": [
    "#Task 2\n",
    "\n",
    "item = 'laptops'\n",
    "price = 600\n",
    "quantity = 10\n",
    "total_cost = price * quantity\n",
    "\n",
    "total = \"\"\"I bought {} {} at {} each, for a total of ${}. \n",
    "\"\"\".format (quantity,item,price,total_cost)\n",
    "print(total)"
   ]
  },
  {
   "cell_type": "code",
   "execution_count": 3,
   "id": "b37ad888",
   "metadata": {},
   "outputs": [
    {
     "name": "stdout",
     "output_type": "stream",
     "text": [
      "The temperature in Karachi is 27°C.\n"
     ]
    }
   ],
   "source": [
    "#Task 3\n",
    "\n",
    "city = 'Karachi'\n",
    "temperature = '27'\n",
    "\n",
    "weather = f\"\"\"The temperature in {city} is {temperature}°C.\"\"\"\n",
    "\n",
    "print (weather)\n"
   ]
  },
  {
   "cell_type": "code",
   "execution_count": 4,
   "id": "b63b0f60",
   "metadata": {},
   "outputs": [
    {
     "name": "stdout",
     "output_type": "stream",
     "text": [
      "My name is Ramish Fateh. I am 27 years old.\n"
     ]
    }
   ],
   "source": [
    "#Task 4\n",
    "\n",
    "first_name = 'Ramish'\n",
    "last_name = 'Fateh'\n",
    "birth_year = 1996\n",
    "current_year = 2023\n",
    "age = current_year - birth_year \n",
    "\n",
    "information = \"\"\"My name is %s %s. I am %d years old.\"\"\" %(first_name,last_name,age)\n",
    "\n",
    "print (information)"
   ]
  },
  {
   "cell_type": "code",
   "execution_count": 12,
   "id": "822cafd9",
   "metadata": {},
   "outputs": [
    {
     "name": "stdout",
     "output_type": "stream",
     "text": [
      "The original price of iphone is $1000 after discount of 25%\n",
      "the price will be $750.0.\n"
     ]
    }
   ],
   "source": [
    "product = 'iphone'\n",
    "discount = 25\n",
    "original_price = 1000\n",
    "discounted_price = original_price * (1-discount/100) \n",
    "info = f\"\"\"The original price of {product} is ${original_price} after discount of {discount}%\n",
    "the price will be ${discounted_price}.\"\"\"\n",
    "print (info)"
   ]
  }
 ],
 "metadata": {
  "kernelspec": {
   "display_name": "Python 3",
   "language": "python",
   "name": "python3"
  },
  "language_info": {
   "codemirror_mode": {
    "name": "ipython",
    "version": 3
   },
   "file_extension": ".py",
   "mimetype": "text/x-python",
   "name": "python",
   "nbconvert_exporter": "python",
   "pygments_lexer": "ipython3",
   "version": "3.8.8"
  }
 },
 "nbformat": 4,
 "nbformat_minor": 5
}
